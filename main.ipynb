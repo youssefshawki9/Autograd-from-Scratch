{
  "nbformat": 4,
  "nbformat_minor": 0,
  "metadata": {
    "colab": {
      "provenance": []
    },
    "kernelspec": {
      "name": "python3",
      "display_name": "Python 3"
    },
    "language_info": {
      "name": "python"
    },
    "gpuClass": "standard"
  },
  "cells": [
    {
      "cell_type": "markdown",
      "source": [
        "##**Find point that minimize the mean of Eculidean distance using torch**"
      ],
      "metadata": {
        "id": "xrMpHqV8pprf"
      }
    },
    {
      "cell_type": "code",
      "source": [
        "from random import Random\n",
        "import torch\n",
        "SEED=5"
      ],
      "metadata": {
        "id": "MmHyp9vQp8bJ"
      },
      "execution_count": 1,
      "outputs": []
    },
    {
      "cell_type": "code",
      "source": [
        "def gnerate_pnts(N=1):\n",
        "  random_gen=Random(SEED)\n",
        "  lst_x,lst_y=[],[]\n",
        "  for _ in range (N):\n",
        "    lst_x.append(random_gen.\n",
        "     uniform(0,1.))\n",
        "  for _ in range (N):\n",
        "    lst_y.append(random_gen.uniform(0,1.))\n",
        "  return lst_x,lst_y"
      ],
      "metadata": {
        "id": "y9_hArN9lVo0"
      },
      "execution_count": 2,
      "outputs": []
    },
    {
      "cell_type": "code",
      "source": [
        "data_x,data_y=gnerate_pnts()\n",
        "data=torch.tensor([data_x,data_y])\n",
        "data=data.t()\n",
        "\n",
        "pnt=torch.tensor([0.3,0.3])\n",
        "pnt.requires_grad=True\n",
        "pnt.retain_grad()\n",
        "\n",
        "for i in range(5):\n",
        "  print(\"Iteration: \",i)\n",
        "  torch_loss=torch.mean(torch.sqrt(((pnt-data)**2).sum(dim=1)))\n",
        "  torch_loss.backward()\n",
        "  print(f\"torch_grad:{pnt.grad.data}\")\n",
        "  pnt.grad.zero_()\n",
        "  print(f\"torch_grad:{pnt.grad.data}\")\n"
      ],
      "metadata": {
        "colab": {
          "base_uri": "https://localhost:8080/"
        },
        "id": "JKXGa_4-qFbm",
        "outputId": "835b97cd-a9b0-4271-ec0f-83fc3e5cb75c"
      },
      "execution_count": 3,
      "outputs": [
        {
          "output_type": "stream",
          "name": "stdout",
          "text": [
            "Iteration:  0\n",
            "torch_grad:tensor([-0.5901, -0.8073])\n",
            "torch_grad:tensor([0., 0.])\n",
            "Iteration:  1\n",
            "torch_grad:tensor([-0.5901, -0.8073])\n",
            "torch_grad:tensor([0., 0.])\n",
            "Iteration:  2\n",
            "torch_grad:tensor([-0.5901, -0.8073])\n",
            "torch_grad:tensor([0., 0.])\n",
            "Iteration:  3\n",
            "torch_grad:tensor([-0.5901, -0.8073])\n",
            "torch_grad:tensor([0., 0.])\n",
            "Iteration:  4\n",
            "torch_grad:tensor([-0.5901, -0.8073])\n",
            "torch_grad:tensor([0., 0.])\n"
          ]
        }
      ]
    },
    {
      "cell_type": "markdown",
      "source": [
        "##**comp_node class**"
      ],
      "metadata": {
        "id": "IVJ_Ta5e21Dr"
      }
    },
    {
      "cell_type": "code",
      "source": [
        "class comp_node:\n",
        "  def __init__(self,val,children=[],op=\"assign\"):\n",
        "    self.val=val\n",
        "    self.children=children\n",
        "    self.op=op\n",
        "    self.grad=0\n",
        "    self.backward_prop=lambda: None\n",
        "\n",
        "  def __to_comp_node(self,obj):\n",
        "    if not isinstance(obj,comp_node):\n",
        "      return comp_node(val=obj)\n",
        "    else:\n",
        "      return obj\n",
        "  \n",
        "  def __sub__(self,other):\n",
        "    other=self.__to_comp_node(other)\n",
        "    out=comp_node(val=self.val - other.val,\n",
        "                  children=[self,other],\n",
        "                  op=\"sub\")\n",
        "    def _backward_prop():\n",
        "      self.grad+= out.grad*(1)\n",
        "      other.grad+= out.grad*(-1)\n",
        "    out.backward_prop=_backward_prop\n",
        "    return out\n",
        "\n",
        "  def __rsub__(self,other):\n",
        "    other=self.__to_comp_node(other)\n",
        "    return other-self\n",
        "\n",
        "  def __add__(self,other):\n",
        "    other=self.__to_comp_node(other)\n",
        "    out=comp_node(val=self.val + other.val,\n",
        "                  children=[self,other],\n",
        "                  op=\"add\")    \n",
        "    def _backward_prop():\n",
        "      self.grad+= out.grad*(1)\n",
        "      other.grad+= out.grad*(1)\n",
        "    out.backward_prop=_backward_prop\n",
        "    \n",
        "    return out\n",
        "\n",
        "  def __radd__(self,other):\n",
        "    other=self.__to_comp_node(other)\n",
        "    return other+self\n",
        "\n",
        "  def __mul__(self,other):\n",
        "    other=self.__to_comp_node(other)\n",
        "    out=comp_node(val=self.val * other.val,\n",
        "                  children=[self,other],\n",
        "                  op=\"mult\")\n",
        "    def _backward_prop():\n",
        "      self.grad+=out.grad*other.val\n",
        "      other.grad+= out.grad* self.val\n",
        "    out.backward_prop=_backward_prop\n",
        "\n",
        "    return out\n",
        "\n",
        "  def __rmul__(self,other):\n",
        "    other=self.__to_comp_node(other)\n",
        "    return other*self\n",
        "\n",
        "  def __pow__ (self,exponent):\n",
        "    if not isinstance(exponent,(int,float)):\n",
        "      raise ValueError (\"Unsuported types\")\n",
        "    out=comp_node(val=self.val**exponent,children=[self],op=f\"power {exponent}\")\n",
        "    def _backward_prop():\n",
        "      self.grad+=out.grad*(exponent*self.val**(exponent-1))\n",
        "    out.backward_prop=_backward_prop\n",
        "    return out\n",
        "\n",
        "  def __eq__ (self,other):\n",
        "    return self.val==other.val\n",
        "\n",
        "  def __repr__(self):\n",
        "    return f\"val:{self.val:0.4f} | children:{len(self.children)} | op:{self.op} | grad:{self.grad}\""
      ],
      "metadata": {
        "id": "wtWVgIUC27WL"
      },
      "execution_count": 4,
      "outputs": []
    },
    {
      "cell_type": "code",
      "source": [
        "assert comp_node(val=5).val==5,\"Assigment failed\"\n",
        "\n",
        "assert (comp_node(val=5)-comp_node(val=3)).val==2\n",
        "assert (comp_node(val=5)-2.5).val==2.5\n",
        "assert (5-comp_node(val=3)).val==2\n",
        "\n",
        "assert (comp_node(val=5)+comp_node(val=3)).val==8\n",
        "assert (comp_node(val=5)+3).val==8\n",
        "assert (5+comp_node(val=3)).val==8\n",
        "\n",
        "assert (comp_node(val=5)*comp_node(val=3)).val==15\n",
        "assert (comp_node(val=5)*3).val==15\n",
        "assert (5*comp_node(val=3)).val==15\n",
        "\n",
        "assert (comp_node(val=5)**2).val==25\n",
        "assert (comp_node(val=25)**0.5).val==5\n",
        "\n",
        "assert (comp_node(val=5)== comp_node(val=5))== True\n",
        "\n",
        "assert (comp_node(val=5)+comp_node(val=3)+comp_node(val=3)).val==11"
      ],
      "metadata": {
        "id": "T3tPvdJF3X84"
      },
      "execution_count": 5,
      "outputs": []
    },
    {
      "cell_type": "markdown",
      "source": [
        "##**loss_graph**"
      ],
      "metadata": {
        "id": "5sFDGKeC9vzg"
      }
    },
    {
      "cell_type": "code",
      "source": [
        "def loss_graph(x_p,y_p,data_x,data_y):\n",
        "  I_x=x_p-data_x\n",
        "  I_y=y_p-data_y\n",
        "  g_x,g_y=I_x**2,I_y**2\n",
        "  M=g_x+g_y\n",
        "  l=M**0.5\n",
        "  return l ,[l,M,g_x,g_y,I_x,I_y,x_p,y_p]"
      ],
      "metadata": {
        "id": "huZpXjn5Egrm"
      },
      "execution_count": 6,
      "outputs": []
    },
    {
      "cell_type": "code",
      "source": [
        "data_x,data_y=gnerate_pnts(N=1)\n",
        "x_p,y_p=comp_node(val=0.3),comp_node(val=0.3)\n",
        "l,rev_topo_order=loss_graph(x_p,y_p,data_x[0],data_y[0])\n",
        "rev_topo_order[0].grad=1\n",
        "for (i,node) in enumerate (rev_topo_order):\n",
        "  node.backward_prop()\n",
        "  print(i,node)\n"
      ],
      "metadata": {
        "colab": {
          "base_uri": "https://localhost:8080/"
        },
        "id": "_nGohCNz9qM1",
        "outputId": "ef95e417-f181-48be-de41-2488b8558128"
      },
      "execution_count": 7,
      "outputs": [
        {
          "output_type": "stream",
          "name": "stdout",
          "text": [
            "0 val:0.5472 | children:1 | op:power 0.5 | grad:1\n",
            "1 val:0.2994 | children:2 | op:add | grad:0.9137222319490423\n",
            "2 val:0.1043 | children:1 | op:power 2 | grad:0.9137222319490423\n",
            "3 val:0.1952 | children:1 | op:power 2 | grad:0.9137222319490423\n",
            "4 val:-0.3229 | children:2 | op:sub | grad:-0.5900849147094943\n",
            "5 val:-0.4418 | children:2 | op:sub | grad:-0.8073411877467226\n",
            "6 val:0.3000 | children:0 | op:assign | grad:-0.5900849147094943\n",
            "7 val:0.3000 | children:0 | op:assign | grad:-0.8073411877467226\n"
          ]
        }
      ]
    },
    {
      "cell_type": "markdown",
      "source": [
        "## For x_p, y_p, z_p"
      ],
      "metadata": {
        "id": "6U2tEdN4bffq"
      }
    },
    {
      "cell_type": "code",
      "source": [
        "def gnerate_pnts_3(N=1):\n",
        "  random_gen=Random(SEED)\n",
        "  lst_x,lst_y,lst_z=[],[],[]\n",
        "  for _ in range (N):\n",
        "    lst_x.append(random_gen.\n",
        "     uniform(0,1.))\n",
        "  for _ in range (N):\n",
        "    lst_y.append(random_gen.uniform(0,1.))\n",
        "  for _ in range (N):\n",
        "    lst_z.append(random_gen.uniform(0,1.))    \n",
        "  return lst_x,lst_y,lst_z"
      ],
      "metadata": {
        "id": "moigmPT4Yuii"
      },
      "execution_count": 8,
      "outputs": []
    },
    {
      "cell_type": "code",
      "source": [
        "data_x,data_y,data_z=gnerate_pnts_3()\n",
        "data=torch.tensor([data_x,data_y,data_z])\n",
        "data=data.t()\n",
        "\n",
        "pnt=torch.tensor([0.3,0.3,0.3])\n",
        "pnt.requires_grad=True\n",
        "pnt.retain_grad()\n",
        "\n",
        "for i in range(5):\n",
        "  print(\"Iteration: \",i)\n",
        "  torch_loss=torch.mean(torch.sqrt(((pnt-data)**2).sum(dim=1)))\n",
        "  torch_loss.backward()\n",
        "  print(f\"torch_grad:{pnt.grad.data}\")\n",
        "  pnt.grad.zero_()\n",
        "  print(f\"torch_grad:{pnt.grad.data}\")\n"
      ],
      "metadata": {
        "colab": {
          "base_uri": "https://localhost:8080/"
        },
        "id": "wvZ-rpIGY5Iy",
        "outputId": "9bb76957-78e9-4e8f-f185-9848e5bfade6"
      },
      "execution_count": 9,
      "outputs": [
        {
          "output_type": "stream",
          "name": "stdout",
          "text": [
            "Iteration:  0\n",
            "torch_grad:tensor([-0.4375, -0.5986, -0.6710])\n",
            "torch_grad:tensor([0., 0., 0.])\n",
            "Iteration:  1\n",
            "torch_grad:tensor([-0.4375, -0.5986, -0.6710])\n",
            "torch_grad:tensor([0., 0., 0.])\n",
            "Iteration:  2\n",
            "torch_grad:tensor([-0.4375, -0.5986, -0.6710])\n",
            "torch_grad:tensor([0., 0., 0.])\n",
            "Iteration:  3\n",
            "torch_grad:tensor([-0.4375, -0.5986, -0.6710])\n",
            "torch_grad:tensor([0., 0., 0.])\n",
            "Iteration:  4\n",
            "torch_grad:tensor([-0.4375, -0.5986, -0.6710])\n",
            "torch_grad:tensor([0., 0., 0.])\n"
          ]
        }
      ]
    },
    {
      "cell_type": "code",
      "source": [
        "def loss_graph_3(x_p,y_p,z_p,data_x,data_y,data_z):\n",
        "  I_x=x_p-data_x\n",
        "  I_y=y_p-data_y\n",
        "  I_z = z_p-data_z\n",
        "\n",
        "  g_x,g_y,g_z=I_x**2,I_y**2,I_z**2\n",
        "  M0=g_x+g_y\n",
        "  M=M0+g_z\n",
        "  l=M**0.5\n",
        "  return l ,[l,M,M0,g_x,g_y,g_z,I_x,I_y,I_z,x_p,y_p,z_p]"
      ],
      "metadata": {
        "id": "kwi5rwqwZI0j"
      },
      "execution_count": 10,
      "outputs": []
    },
    {
      "cell_type": "code",
      "source": [
        "data_x,data_y,data_z=gnerate_pnts_3(N=1)\n",
        "x_p,y_p,z_p=comp_node(val=0.3),comp_node(val=0.3),comp_node(val=0.3)\n",
        "l,rev_topo_order=loss_graph_3(x_p,y_p,z_p,data_x[0],data_y[0],data_z[0])\n",
        "rev_topo_order[0].grad=1\n",
        "for (i,node) in enumerate (rev_topo_order):\n",
        "  node.backward_prop()\n",
        "  print(i,node)\n"
      ],
      "metadata": {
        "colab": {
          "base_uri": "https://localhost:8080/"
        },
        "id": "hevjINTuZadi",
        "outputId": "d18e09ca-fda4-4fef-ef42-5d581cfd2b3c"
      },
      "execution_count": 11,
      "outputs": [
        {
          "output_type": "stream",
          "name": "stdout",
          "text": [
            "0 val:0.7380 | children:1 | op:power 0.5 | grad:1\n",
            "1 val:0.5447 | children:2 | op:add | grad:0.6774981199812008\n",
            "2 val:0.2994 | children:2 | op:add | grad:0.6774981199812008\n",
            "3 val:0.1043 | children:1 | op:power 2 | grad:0.6774981199812008\n",
            "4 val:0.1952 | children:1 | op:power 2 | grad:0.6774981199812008\n",
            "5 val:0.2452 | children:1 | op:power 2 | grad:0.6774981199812008\n",
            "6 val:-0.3229 | children:2 | op:sub | grad:-0.4375305824530328\n",
            "7 val:-0.4418 | children:2 | op:sub | grad:-0.5986197093125982\n",
            "8 val:-0.4952 | children:2 | op:sub | grad:-0.6709854193950939\n",
            "9 val:0.3000 | children:0 | op:assign | grad:-0.4375305824530328\n",
            "10 val:0.3000 | children:0 | op:assign | grad:-0.5986197093125982\n",
            "11 val:0.3000 | children:0 | op:assign | grad:-0.6709854193950939\n"
          ]
        }
      ]
    }
  ]
}